{
  "nbformat": 4,
  "nbformat_minor": 0,
  "metadata": {
    "colab": {
      "name": "DeepMatcherAirB&BTraining.ipynb",
      "provenance": []
    },
    "kernelspec": {
      "name": "python3",
      "display_name": "Python 3"
    }
  },
  "cells": [
    {
      "cell_type": "code",
      "metadata": {
        "id": "RDlGdag-Xo_J",
        "colab": {
          "base_uri": "https://localhost:8080/"
        },
        "outputId": "4a13589d-f821-4efb-d804-1b8c42908d0d"
      },
      "source": [
        "try:\r\n",
        "    import deepmatcher\r\n",
        "except:\r\n",
        "    !pip install -qqq deepmatcher\r\n"
      ],
      "execution_count": null,
      "outputs": [
        {
          "output_type": "stream",
          "text": [
            "\u001b[K     |████████████████████████████████| 51kB 2.4MB/s \n",
            "\u001b[K     |████████████████████████████████| 51kB 3.4MB/s \n",
            "\u001b[K     |████████████████████████████████| 194kB 6.8MB/s \n",
            "\u001b[?25h  Building wheel for deepmatcher (setup.py) ... \u001b[?25l\u001b[?25hdone\n",
            "  Building wheel for fasttextmirror (setup.py) ... \u001b[?25lerror\n",
            "\u001b[31m  ERROR: Failed building wheel for fasttextmirror\u001b[0m\n",
            "\u001b[?25h    Running setup.py install for fasttextmirror ... \u001b[?25l\u001b[?25hdone\n"
          ],
          "name": "stdout"
        }
      ]
    },
    {
      "cell_type": "code",
      "metadata": {
        "id": "b5KBBEawX74Q"
      },
      "source": [
        "import deepmatcher as dm\r\n",
        "import torch\r\n",
        "torch.cuda.is_available()\r\n",
        "import pandas as pd\r\n",
        "import io\r\n",
        "from google.colab import files\r\n",
        "from google.colab import drive\r\n"
      ],
      "execution_count": 14,
      "outputs": []
    },
    {
      "cell_type": "code",
      "metadata": {
        "id": "liIL6u5tKxHZ",
        "colab": {
          "resources": {
            "http://localhost:8080/nbextensions/google.colab/files.js": {
              "data": "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",
              "ok": true,
              "headers": [
                [
                  "content-type",
                  "application/javascript"
                ]
              ],
              "status": 200,
              "status_text": ""
            }
          },
          "base_uri": "https://localhost:8080/",
          "height": 140
        },
        "outputId": "dee85ca5-2cb8-4fef-8f27-6ccc603dd830"
      },
      "source": [
        "uploaded = files.upload()"
      ],
      "execution_count": null,
      "outputs": [
        {
          "output_type": "display_data",
          "data": {
            "text/html": [
              "\n",
              "     <input type=\"file\" id=\"files-91823f51-841f-41f0-bc8e-57f5d31cde9a\" name=\"files[]\" multiple disabled\n",
              "        style=\"border:none\" />\n",
              "     <output id=\"result-91823f51-841f-41f0-bc8e-57f5d31cde9a\">\n",
              "      Upload widget is only available when the cell has been executed in the\n",
              "      current browser session. Please rerun this cell to enable.\n",
              "      </output>\n",
              "      <script src=\"/nbextensions/google.colab/files.js\"></script> "
            ],
            "text/plain": [
              "<IPython.core.display.HTML object>"
            ]
          },
          "metadata": {
            "tags": []
          }
        },
        {
          "output_type": "stream",
          "text": [
            "Saving test.csv to test.csv\n",
            "Saving train.csv to train.csv\n",
            "Saving validation.csv to validation.csv\n"
          ],
          "name": "stdout"
        }
      ]
    },
    {
      "cell_type": "code",
      "metadata": {
        "colab": {
          "base_uri": "https://localhost:8080/"
        },
        "id": "KiJX-j6hdXCO",
        "outputId": "119ee854-e9ed-417a-ffc2-8e8a65f0e89f"
      },
      "source": [
        "train, validation, test = dm.data.process(\r\n",
        "    path='',\r\n",
        "    train='train.csv',\r\n",
        "    validation='validation.csv',\r\n",
        "    test='test.csv')"
      ],
      "execution_count": null,
      "outputs": [
        {
          "output_type": "stream",
          "text": [
            "\n",
            "Reading and processing data from \"train.csv\"\n",
            "0% [############################# ] 100% | ETA: 00:00:00\n",
            "Reading and processing data from \"validation.csv\"\n",
            "0% [############################# ] 100% | ETA: 00:00:00\n",
            "Reading and processing data from \"test.csv\"\n",
            "0% [############################# ] 100% | ETA: 00:00:00INFO:deepmatcher.data.field:Downloading vectors from https://drive.google.com/uc?export=download&id=1Vih8gAmgBnuYDxfblbT94P6WjB7s1ZSh\n"
          ],
          "name": "stderr"
        },
        {
          "output_type": "stream",
          "text": [
            "downloading from Google Drive; may take a few minutes\n"
          ],
          "name": "stdout"
        },
        {
          "output_type": "stream",
          "text": [
            "wiki.en.bin: 8.49GB [02:14, 63.3MB/s]\n",
            "INFO:deepmatcher.data.field:Extracting vectors into /root/.vector_cache\n",
            "\n",
            "Building vocabulary\n",
            "0% [######] 100% | ETA: 00:00:00\n",
            "Total time elapsed: 00:00:00\n",
            "\n",
            "Computing principal components\n",
            "0% [######] 100% | ETA: 00:00:00\n",
            "Total time elapsed: 00:00:03\n"
          ],
          "name": "stderr"
        }
      ]
    },
    {
      "cell_type": "code",
      "metadata": {
        "colab": {
          "base_uri": "https://localhost:8080/",
          "height": 258
        },
        "id": "9IrLP8Rh4xOR",
        "outputId": "fdcd429d-3deb-4efd-a036-32137a9b6437"
      },
      "source": [
        "train_table = train.get_raw_table()\r\n",
        "train_table.head()"
      ],
      "execution_count": null,
      "outputs": [
        {
          "output_type": "execute_result",
          "data": {
            "text/html": [
              "<div>\n",
              "<style scoped>\n",
              "    .dataframe tbody tr th:only-of-type {\n",
              "        vertical-align: middle;\n",
              "    }\n",
              "\n",
              "    .dataframe tbody tr th {\n",
              "        vertical-align: top;\n",
              "    }\n",
              "\n",
              "    .dataframe thead th {\n",
              "        text-align: right;\n",
              "    }\n",
              "</style>\n",
              "<table border=\"1\" class=\"dataframe\">\n",
              "  <thead>\n",
              "    <tr style=\"text-align: right;\">\n",
              "      <th></th>\n",
              "      <th>id</th>\n",
              "      <th>label</th>\n",
              "      <th>left_host_id</th>\n",
              "      <th>left_host_name</th>\n",
              "      <th>left_neighbourhood_group</th>\n",
              "      <th>left_neighbourhood</th>\n",
              "      <th>left_latitude</th>\n",
              "      <th>left_longitude</th>\n",
              "      <th>left_room_type</th>\n",
              "      <th>left_price</th>\n",
              "      <th>left_minimum_nights</th>\n",
              "      <th>left_number_of_reviews</th>\n",
              "      <th>left_last_review</th>\n",
              "      <th>left_reviews_per_month</th>\n",
              "      <th>left_calculated_host_listings_count</th>\n",
              "      <th>left_availability_365</th>\n",
              "      <th>right_neighbourhood</th>\n",
              "      <th>right_host_id</th>\n",
              "      <th>right_host_name</th>\n",
              "      <th>right_neighbourhood_group</th>\n",
              "      <th>right_latitude</th>\n",
              "      <th>right_longitude</th>\n",
              "      <th>right_room_type</th>\n",
              "      <th>right_price</th>\n",
              "      <th>right_minimum_nights</th>\n",
              "      <th>right_number_of_reviews</th>\n",
              "      <th>right_last_review</th>\n",
              "      <th>right_reviews_per_month</th>\n",
              "      <th>right_calculated_host_listings_count</th>\n",
              "      <th>right_availability_365</th>\n",
              "    </tr>\n",
              "  </thead>\n",
              "  <tbody>\n",
              "    <tr>\n",
              "      <th>0</th>\n",
              "      <td>12392592</td>\n",
              "      <td>0</td>\n",
              "      <td>67005410</td>\n",
              "      <td>feliciano</td>\n",
              "      <td></td>\n",
              "      <td>centrum-west</td>\n",
              "      <td></td>\n",
              "      <td>4.89926</td>\n",
              "      <td>private room</td>\n",
              "      <td>104</td>\n",
              "      <td>2</td>\n",
              "      <td>107</td>\n",
              "      <td>2020-01-12</td>\n",
              "      <td>1.9</td>\n",
              "      <td>16</td>\n",
              "      <td>364</td>\n",
              "      <td>centrum-west</td>\n",
              "      <td>67005410</td>\n",
              "      <td>feliciano</td>\n",
              "      <td></td>\n",
              "      <td></td>\n",
              "      <td>4.89926</td>\n",
              "      <td>private room</td>\n",
              "      <td>103</td>\n",
              "      <td>1</td>\n",
              "      <td>133</td>\n",
              "      <td>2020-09-06</td>\n",
              "      <td>2.82</td>\n",
              "      <td>16</td>\n",
              "      <td>365</td>\n",
              "    </tr>\n",
              "    <tr>\n",
              "      <th>1</th>\n",
              "      <td>45836338</td>\n",
              "      <td>0</td>\n",
              "      <td>178187873</td>\n",
              "      <td>marcel and pauline</td>\n",
              "      <td></td>\n",
              "      <td>centrum-oost</td>\n",
              "      <td>52.36497</td>\n",
              "      <td>4.88061</td>\n",
              "      <td>entire home/apt</td>\n",
              "      <td>56</td>\n",
              "      <td>2</td>\n",
              "      <td>6</td>\n",
              "      <td>2020-11-17</td>\n",
              "      <td>3.21</td>\n",
              "      <td>25</td>\n",
              "      <td>0</td>\n",
              "      <td>centrum-oost</td>\n",
              "      <td>178187873</td>\n",
              "      <td>marcel and pauline</td>\n",
              "      <td></td>\n",
              "      <td>52.36497</td>\n",
              "      <td>4.88061</td>\n",
              "      <td>entire home/apt</td>\n",
              "      <td>56</td>\n",
              "      <td>2</td>\n",
              "      <td>3</td>\n",
              "      <td>2020-11-04</td>\n",
              "      <td>1.8</td>\n",
              "      <td>25</td>\n",
              "      <td>0</td>\n",
              "    </tr>\n",
              "    <tr>\n",
              "      <th>2</th>\n",
              "      <td>41910011</td>\n",
              "      <td>0</td>\n",
              "      <td>316681026</td>\n",
              "      <td>hotel estheréa</td>\n",
              "      <td></td>\n",
              "      <td>centrum-west</td>\n",
              "      <td>52.37054</td>\n",
              "      <td>4.88865</td>\n",
              "      <td>private room</td>\n",
              "      <td>111</td>\n",
              "      <td>1</td>\n",
              "      <td>1</td>\n",
              "      <td>2020-09-28</td>\n",
              "      <td>0.39</td>\n",
              "      <td>5</td>\n",
              "      <td>365</td>\n",
              "      <td>centrum-west</td>\n",
              "      <td>316681026</td>\n",
              "      <td>hotel estheréa</td>\n",
              "      <td></td>\n",
              "      <td>52.37054</td>\n",
              "      <td>4.88865</td>\n",
              "      <td>private room</td>\n",
              "      <td>171</td>\n",
              "      <td>1</td>\n",
              "      <td>0</td>\n",
              "      <td></td>\n",
              "      <td></td>\n",
              "      <td>5</td>\n",
              "      <td>365</td>\n",
              "    </tr>\n",
              "    <tr>\n",
              "      <th>3</th>\n",
              "      <td>13897477</td>\n",
              "      <td>1</td>\n",
              "      <td>22715299</td>\n",
              "      <td>sjoerd</td>\n",
              "      <td></td>\n",
              "      <td>de baarsjes - oud-west</td>\n",
              "      <td>52.36245</td>\n",
              "      <td>4.86268</td>\n",
              "      <td>private room</td>\n",
              "      <td>80</td>\n",
              "      <td>1</td>\n",
              "      <td>0</td>\n",
              "      <td></td>\n",
              "      <td></td>\n",
              "      <td>1</td>\n",
              "      <td>0</td>\n",
              "      <td>de baarsjes - oud-west</td>\n",
              "      <td>56754302</td>\n",
              "      <td>shanna</td>\n",
              "      <td></td>\n",
              "      <td>52.37282</td>\n",
              "      <td>4.86449</td>\n",
              "      <td>entire home/apt</td>\n",
              "      <td>91</td>\n",
              "      <td>2</td>\n",
              "      <td>3</td>\n",
              "      <td>2016-08-15</td>\n",
              "      <td>0.06</td>\n",
              "      <td>1</td>\n",
              "      <td>0</td>\n",
              "    </tr>\n",
              "    <tr>\n",
              "      <th>4</th>\n",
              "      <td>39573172</td>\n",
              "      <td>0</td>\n",
              "      <td>29679961</td>\n",
              "      <td>rob</td>\n",
              "      <td></td>\n",
              "      <td>oud-oost</td>\n",
              "      <td>52.36187</td>\n",
              "      <td>4.92917</td>\n",
              "      <td>entire home/apt</td>\n",
              "      <td>160</td>\n",
              "      <td>2</td>\n",
              "      <td>0</td>\n",
              "      <td></td>\n",
              "      <td></td>\n",
              "      <td>1</td>\n",
              "      <td>0</td>\n",
              "      <td>watergraafsmeer</td>\n",
              "      <td>18831237</td>\n",
              "      <td>lode</td>\n",
              "      <td></td>\n",
              "      <td>52.35505</td>\n",
              "      <td>4.92917</td>\n",
              "      <td>entire home/apt</td>\n",
              "      <td>180</td>\n",
              "      <td>2</td>\n",
              "      <td>6</td>\n",
              "      <td>2019-08-14</td>\n",
              "      <td>0.21</td>\n",
              "      <td>1</td>\n",
              "      <td>0</td>\n",
              "    </tr>\n",
              "  </tbody>\n",
              "</table>\n",
              "</div>"
            ],
            "text/plain": [
              "         id  label  ... right_calculated_host_listings_count right_availability_365\n",
              "0  12392592      0  ...                                   16                    365\n",
              "1  45836338      0  ...                                   25                      0\n",
              "2  41910011      0  ...                                    5                    365\n",
              "3  13897477      1  ...                                    1                      0\n",
              "4  39573172      0  ...                                    1                      0\n",
              "\n",
              "[5 rows x 30 columns]"
            ]
          },
          "metadata": {
            "tags": []
          },
          "execution_count": 5
        }
      ]
    },
    {
      "cell_type": "code",
      "metadata": {
        "colab": {
          "base_uri": "https://localhost:8080/",
          "height": 275
        },
        "id": "G2cCdbgtoLXK",
        "outputId": "c0912e65-a06b-40a8-ce79-7a3382c044c2"
      },
      "source": [
        "    df = train_table[train_table[\"label\"] == 1]\r\n",
        "    df.head()"
      ],
      "execution_count": null,
      "outputs": [
        {
          "output_type": "execute_result",
          "data": {
            "text/html": [
              "<div>\n",
              "<style scoped>\n",
              "    .dataframe tbody tr th:only-of-type {\n",
              "        vertical-align: middle;\n",
              "    }\n",
              "\n",
              "    .dataframe tbody tr th {\n",
              "        vertical-align: top;\n",
              "    }\n",
              "\n",
              "    .dataframe thead th {\n",
              "        text-align: right;\n",
              "    }\n",
              "</style>\n",
              "<table border=\"1\" class=\"dataframe\">\n",
              "  <thead>\n",
              "    <tr style=\"text-align: right;\">\n",
              "      <th></th>\n",
              "      <th>id</th>\n",
              "      <th>label</th>\n",
              "      <th>left_host_id</th>\n",
              "      <th>left_host_name</th>\n",
              "      <th>left_neighbourhood_group</th>\n",
              "      <th>left_neighbourhood</th>\n",
              "      <th>left_latitude</th>\n",
              "      <th>left_longitude</th>\n",
              "      <th>left_room_type</th>\n",
              "      <th>left_price</th>\n",
              "      <th>left_minimum_nights</th>\n",
              "      <th>left_number_of_reviews</th>\n",
              "      <th>left_last_review</th>\n",
              "      <th>left_reviews_per_month</th>\n",
              "      <th>left_calculated_host_listings_count</th>\n",
              "      <th>left_availability_365</th>\n",
              "      <th>right_neighbourhood</th>\n",
              "      <th>right_host_id</th>\n",
              "      <th>right_host_name</th>\n",
              "      <th>right_neighbourhood_group</th>\n",
              "      <th>right_latitude</th>\n",
              "      <th>right_longitude</th>\n",
              "      <th>right_room_type</th>\n",
              "      <th>right_price</th>\n",
              "      <th>right_minimum_nights</th>\n",
              "      <th>right_number_of_reviews</th>\n",
              "      <th>right_last_review</th>\n",
              "      <th>right_reviews_per_month</th>\n",
              "      <th>right_calculated_host_listings_count</th>\n",
              "      <th>right_availability_365</th>\n",
              "    </tr>\n",
              "  </thead>\n",
              "  <tbody>\n",
              "    <tr>\n",
              "      <th>3</th>\n",
              "      <td>13897477</td>\n",
              "      <td>1</td>\n",
              "      <td>22715299</td>\n",
              "      <td>sjoerd</td>\n",
              "      <td></td>\n",
              "      <td>de baarsjes - oud-west</td>\n",
              "      <td>52.36245</td>\n",
              "      <td>4.86268</td>\n",
              "      <td>private room</td>\n",
              "      <td>80</td>\n",
              "      <td>1</td>\n",
              "      <td>0</td>\n",
              "      <td></td>\n",
              "      <td></td>\n",
              "      <td>1</td>\n",
              "      <td>0</td>\n",
              "      <td>de baarsjes - oud-west</td>\n",
              "      <td>56754302</td>\n",
              "      <td>shanna</td>\n",
              "      <td></td>\n",
              "      <td>52.37282</td>\n",
              "      <td>4.86449</td>\n",
              "      <td>entire home/apt</td>\n",
              "      <td>91</td>\n",
              "      <td>2</td>\n",
              "      <td>3</td>\n",
              "      <td>2016-08-15</td>\n",
              "      <td>0.06</td>\n",
              "      <td>1</td>\n",
              "      <td>0</td>\n",
              "    </tr>\n",
              "    <tr>\n",
              "      <th>5</th>\n",
              "      <td>6893255</td>\n",
              "      <td>1</td>\n",
              "      <td>4223835</td>\n",
              "      <td>tosca</td>\n",
              "      <td></td>\n",
              "      <td>de baarsjes - oud-west</td>\n",
              "      <td>52.36705</td>\n",
              "      <td>4.85508</td>\n",
              "      <td>entire home/apt</td>\n",
              "      <td>100</td>\n",
              "      <td>3</td>\n",
              "      <td>18</td>\n",
              "      <td>2019-12-30</td>\n",
              "      <td>0.27</td>\n",
              "      <td>1</td>\n",
              "      <td>0</td>\n",
              "      <td>bos en lommer</td>\n",
              "      <td>8561676</td>\n",
              "      <td>vera</td>\n",
              "      <td></td>\n",
              "      <td>52.37938</td>\n",
              "      <td>4.84802</td>\n",
              "      <td>entire home/apt</td>\n",
              "      <td>125</td>\n",
              "      <td>7</td>\n",
              "      <td>2</td>\n",
              "      <td>2015-09-21</td>\n",
              "      <td>0.03</td>\n",
              "      <td>1</td>\n",
              "      <td>0</td>\n",
              "    </tr>\n",
              "    <tr>\n",
              "      <th>6</th>\n",
              "      <td>22383593</td>\n",
              "      <td>1</td>\n",
              "      <td>163687650</td>\n",
              "      <td>sasa</td>\n",
              "      <td></td>\n",
              "      <td>oud-noord</td>\n",
              "      <td>52.39301</td>\n",
              "      <td>4.94565</td>\n",
              "      <td>private room</td>\n",
              "      <td>150</td>\n",
              "      <td>3</td>\n",
              "      <td>56</td>\n",
              "      <td>2020-03-07</td>\n",
              "      <td>1.56</td>\n",
              "      <td>1</td>\n",
              "      <td>365</td>\n",
              "      <td>geuzenveld - slotermeer</td>\n",
              "      <td>1612630</td>\n",
              "      <td>thomas</td>\n",
              "      <td></td>\n",
              "      <td>52.37349</td>\n",
              "      <td>4.82222</td>\n",
              "      <td>entire home/apt</td>\n",
              "      <td>79</td>\n",
              "      <td>1</td>\n",
              "      <td>29</td>\n",
              "      <td>2019-03-09</td>\n",
              "      <td>1.05</td>\n",
              "      <td>1</td>\n",
              "      <td>0</td>\n",
              "    </tr>\n",
              "    <tr>\n",
              "      <th>8</th>\n",
              "      <td>8037965</td>\n",
              "      <td>1</td>\n",
              "      <td>17097221</td>\n",
              "      <td>mario</td>\n",
              "      <td></td>\n",
              "      <td>bos en lommer</td>\n",
              "      <td>52.37697</td>\n",
              "      <td>4.84849</td>\n",
              "      <td>private room</td>\n",
              "      <td>68</td>\n",
              "      <td>1</td>\n",
              "      <td>2</td>\n",
              "      <td>2015-09-07</td>\n",
              "      <td>0.03</td>\n",
              "      <td>1</td>\n",
              "      <td>0</td>\n",
              "      <td>de baarsjes - oud-west</td>\n",
              "      <td>22715299</td>\n",
              "      <td>sjoerd</td>\n",
              "      <td></td>\n",
              "      <td>52.36245</td>\n",
              "      <td>4.86268</td>\n",
              "      <td>private room</td>\n",
              "      <td>80</td>\n",
              "      <td>1</td>\n",
              "      <td>0</td>\n",
              "      <td></td>\n",
              "      <td></td>\n",
              "      <td>1</td>\n",
              "      <td>0</td>\n",
              "    </tr>\n",
              "    <tr>\n",
              "      <th>9</th>\n",
              "      <td>18414048</td>\n",
              "      <td>1</td>\n",
              "      <td>7858255</td>\n",
              "      <td>dick</td>\n",
              "      <td></td>\n",
              "      <td>noord-oost</td>\n",
              "      <td>52.38682</td>\n",
              "      <td>4.9592</td>\n",
              "      <td>entire home/apt</td>\n",
              "      <td>130</td>\n",
              "      <td>3</td>\n",
              "      <td>10</td>\n",
              "      <td>2019-08-07</td>\n",
              "      <td>0.23</td>\n",
              "      <td>1</td>\n",
              "      <td>0</td>\n",
              "      <td>oud-oost</td>\n",
              "      <td>205725069</td>\n",
              "      <td>floor</td>\n",
              "      <td></td>\n",
              "      <td>52.35769</td>\n",
              "      <td>4.91017</td>\n",
              "      <td>entire home/apt</td>\n",
              "      <td>150</td>\n",
              "      <td>2</td>\n",
              "      <td>10</td>\n",
              "      <td>2020-02-16</td>\n",
              "      <td>0.38</td>\n",
              "      <td>1</td>\n",
              "      <td>70</td>\n",
              "    </tr>\n",
              "  </tbody>\n",
              "</table>\n",
              "</div>"
            ],
            "text/plain": [
              "         id  label  ... right_calculated_host_listings_count right_availability_365\n",
              "3  13897477      1  ...                                    1                      0\n",
              "5   6893255      1  ...                                    1                      0\n",
              "6  22383593      1  ...                                    1                      0\n",
              "8   8037965      1  ...                                    1                      0\n",
              "9  18414048      1  ...                                    1                     70\n",
              "\n",
              "[5 rows x 30 columns]"
            ]
          },
          "metadata": {
            "tags": []
          },
          "execution_count": 9
        }
      ]
    },
    {
      "cell_type": "code",
      "metadata": {
        "id": "Skg5UGRY41T2"
      },
      "source": [
        "model = dm.MatchingModel(attr_summarizer='hybrid')"
      ],
      "execution_count": null,
      "outputs": []
    },
    {
      "cell_type": "code",
      "metadata": {
        "colab": {
          "base_uri": "https://localhost:8080/"
        },
        "id": "AHvKo6Re31AH",
        "outputId": "1c7d0401-9dc6-4138-91b3-6b263e0bdb7a"
      },
      "source": [
        "model.run_train(\r\n",
        "    train,\r\n",
        "    validation,\r\n",
        "    epochs=1,\r\n",
        "    batch_size=16,\r\n",
        "    best_save_path='hybrid_model.pth',\r\n",
        "    pos_neg_ratio=3)"
      ],
      "execution_count": null,
      "outputs": [
        {
          "output_type": "stream",
          "text": [
            "* Number of trainable parameters: 30939816\n",
            "===>  TRAIN Epoch 1\n"
          ],
          "name": "stdout"
        },
        {
          "output_type": "stream",
          "text": [
            "/usr/local/lib/python3.6/dist-packages/torch/nn/functional.py:2398: UserWarning: reduction: 'mean' divides the total loss by both the batch size and the support size.'batchmean' divides only by the batch size, and aligns with the KL div math definition.'mean' will be changed to behave the same as 'batchmean' in the next major release.\n",
            "  warnings.warn(\"reduction: 'mean' divides the total loss by both the batch size and the support size.\"\n",
            "0% [██████████████████████████████] 100% | ETA: 00:00:00\n",
            "Total time elapsed: 00:07:35\n"
          ],
          "name": "stderr"
        },
        {
          "output_type": "stream",
          "text": [
            "Finished Epoch 1 || Run Time:  459.1 | Load Time:    2.9 || F1:  92.62 | Prec:  87.24 | Rec:  98.72 || Ex/s:  11.72\n",
            "\n",
            "===>  EVAL Epoch 1\n"
          ],
          "name": "stdout"
        },
        {
          "output_type": "stream",
          "text": [
            "0% [██████████████████████] 100% | ETA: 00:00:00\n",
            "Total time elapsed: 00:00:50\n"
          ],
          "name": "stderr"
        },
        {
          "output_type": "stream",
          "text": [
            "Finished Epoch 1 || Run Time:   50.6 | Load Time:    1.0 || F1:  99.28 | Prec: 100.00 | Rec:  98.58 || Ex/s:  34.99\n",
            "\n",
            "* Best F1: tensor(99.2840)\n",
            "Saving best model...\n",
            "Done.\n",
            "---------------------\n",
            "\n",
            "Loading best model...\n",
            "Training done.\n"
          ],
          "name": "stdout"
        },
        {
          "output_type": "execute_result",
          "data": {
            "text/plain": [
              "tensor(99.2840)"
            ]
          },
          "metadata": {
            "tags": []
          },
          "execution_count": 11
        }
      ]
    },
    {
      "cell_type": "code",
      "metadata": {
        "colab": {
          "base_uri": "https://localhost:8080/"
        },
        "id": "2g82L9UK5MPy",
        "outputId": "d1b6716d-2551-4b44-f7b5-d01452d6e166"
      },
      "source": [
        "# Compute F1 on test set\r\n",
        "model.run_eval(test)"
      ],
      "execution_count": null,
      "outputs": [
        {
          "output_type": "stream",
          "text": [
            "===>  EVAL Epoch 1\n"
          ],
          "name": "stdout"
        },
        {
          "output_type": "stream",
          "text": [
            "0% [███████████] 100% | ETA: 00:00:00\n",
            "Total time elapsed: 00:00:37\n"
          ],
          "name": "stderr"
        },
        {
          "output_type": "stream",
          "text": [
            "Finished Epoch 1 || Run Time:   38.1 | Load Time:    0.9 || F1:  99.52 | Prec: 100.00 | Rec:  99.05 || Ex/s:  46.27\n",
            "\n"
          ],
          "name": "stdout"
        },
        {
          "output_type": "execute_result",
          "data": {
            "text/plain": [
              "tensor(99.5208)"
            ]
          },
          "metadata": {
            "tags": []
          },
          "execution_count": 12
        }
      ]
    },
    {
      "cell_type": "code",
      "metadata": {
        "id": "acETspOus5t1"
      },
      "source": [
        "#save the trained model into path\r\n",
        "path = \"\"\r\n",
        "model.save_state(path, include_meta=False)"
      ],
      "execution_count": 15,
      "outputs": []
    },
    {
      "cell_type": "code",
      "metadata": {
        "colab": {
          "base_uri": "https://localhost:8080/",
          "height": 17
        },
        "id": "hL-jFeUpu6Ns",
        "outputId": "feb9dbbd-6997-4781-99f5-3efd6951008b"
      },
      "source": [
        "#Start the download\r\n",
        "files.download('hybrid_model.pth')"
      ],
      "execution_count": 22,
      "outputs": [
        {
          "output_type": "display_data",
          "data": {
            "application/javascript": [
              "\n",
              "    async function download(id, filename, size) {\n",
              "      if (!google.colab.kernel.accessAllowed) {\n",
              "        return;\n",
              "      }\n",
              "      const div = document.createElement('div');\n",
              "      const label = document.createElement('label');\n",
              "      label.textContent = `Downloading \"${filename}\": `;\n",
              "      div.appendChild(label);\n",
              "      const progress = document.createElement('progress');\n",
              "      progress.max = size;\n",
              "      div.appendChild(progress);\n",
              "      document.body.appendChild(div);\n",
              "\n",
              "      const buffers = [];\n",
              "      let downloaded = 0;\n",
              "\n",
              "      const channel = await google.colab.kernel.comms.open(id);\n",
              "      // Send a message to notify the kernel that we're ready.\n",
              "      channel.send({})\n",
              "\n",
              "      for await (const message of channel.messages) {\n",
              "        // Send a message to notify the kernel that we're ready.\n",
              "        channel.send({})\n",
              "        if (message.buffers) {\n",
              "          for (const buffer of message.buffers) {\n",
              "            buffers.push(buffer);\n",
              "            downloaded += buffer.byteLength;\n",
              "            progress.value = downloaded;\n",
              "          }\n",
              "        }\n",
              "      }\n",
              "      const blob = new Blob(buffers, {type: 'application/binary'});\n",
              "      const a = document.createElement('a');\n",
              "      a.href = window.URL.createObjectURL(blob);\n",
              "      a.download = filename;\n",
              "      div.appendChild(a);\n",
              "      a.click();\n",
              "      div.remove();\n",
              "    }\n",
              "  "
            ],
            "text/plain": [
              "<IPython.core.display.Javascript object>"
            ]
          },
          "metadata": {
            "tags": []
          }
        },
        {
          "output_type": "display_data",
          "data": {
            "application/javascript": [
              "download(\"download_d7043593-4d5a-40c5-9f7b-52571925fac8\", \"hybrid_model.pth\", 402895989)"
            ],
            "text/plain": [
              "<IPython.core.display.Javascript object>"
            ]
          },
          "metadata": {
            "tags": []
          }
        }
      ]
    }
  ]
}